{
 "cells": [
  {
   "cell_type": "code",
   "execution_count": 20,
   "id": "0d0b173f-9f44-4069-86e6-b5eed72e5b59",
   "metadata": {},
   "outputs": [],
   "source": [
    "#Protein optimization playground\n",
    "import rmsd\n",
    "import os\n",
    "import itertools\n",
    "import numpy as np\n",
    "import subprocess\n",
    "from Bio.PDB import PDBParser, Superimposer\n",
    "from Bio.SVDSuperimposer import SVDSuperimposer\n",
    "from tmtools import tm_align\n",
    "from tmtools.io import get_structure, get_residue_data\n",
    "parser = PDBParser(QUIET=True)\n",
    "\n",
    "class ProtRatio:\n",
    "    def __init__(self,sequence,save_path):\n",
    "        self.sequence = self.to_elements(sequence)\n",
    "        self.protein_index = 0\n",
    "        self.save_path = save_path\n",
    "        self.structure_original = parser.get_structure('PolG_structure', '/Users/kosio/Repos/PolG_project/Structures/pdb8udk.ent')#self.structure_prediciton(self.sequence)\n",
    "        #self.structure_original, _ = self.structure_prediciton(self.sequence)\n",
    "        self.atoms = self.protein_coordinates(self.structure_original)\n",
    "        \n",
    "    def to_elements(self, sequence):\n",
    "        return [char for char in sequence[0]]\n",
    "    \n",
    "    def to_list(self, sequence):\n",
    "        return [\"\".join(sequence)]\n",
    "\n",
    "    def protein_coordinates(self, structure):\n",
    "        chain = next(structure.get_chains())\n",
    "        coords, seq = get_residue_data(chain)\n",
    "        #coordinates = []\n",
    "        #for model in structure:\n",
    "        #    for chain in model:\n",
    "        #        for residue in chain:\n",
    "        #            for atom in residue:\n",
    "        #                coordinates.append(atom.coord)\n",
    "        return coords\n",
    "    \n",
    "    def structure_prediciton(self, protein):\n",
    "        self.save_fasta(*self.to_list(protein), self.save_path+str(self.protein_index)+'.fasta')\n",
    "        subprocess.run(['colabfold_batch', self.save_path+str(self.protein_index)+'.fasta', self.save_path+'out'+str(self.protein_index)])\n",
    "        for file_name in os.listdir(self.save_path+'out'+str(self.protein_index)):\n",
    "            if file_name.startswith('seq'+str(self.protein_index)+'_unrelaxed_rank_001'):\n",
    "                matching_filename = file_name\n",
    "        struct_file = parser.get_structure(\"protein_structure\", self.save_path+'out'+str(self.protein_index)+'/'+matching_filename)\n",
    "        return struct_file, protein\n",
    "    \n",
    "    def distance_function(self,x, seq):\n",
    "        atoms_x = self.protein_coordinates(x)\n",
    "        res = tm_align(self.atoms, atoms_x, self.to_list(self.sequence)[0], self.to_list(seq)[0])\n",
    "        return res.rmsd\n",
    "\n",
    "    \n",
    "    def step(self, protein, deletions=1):\n",
    "        proteins = []\n",
    "        scores = []\n",
    "        for i, comb in enumerate(itertools.combinations(np.arange(0,len(protein)), deletions)):\n",
    "            self.protein_index+=1\n",
    "            proteins.append(np.delete(protein,comb[i]))\n",
    "            struct, seq = self.structure_prediciton(proteins[-1])\n",
    "            if len(seq)>2:\n",
    "                scores.append(self.distance_function(struct, seq))\n",
    "            else:\n",
    "                scores.append(1000) #temporary fix for proteins of size 2, not necessary for more general cases.\n",
    "            print(proteins[np.nanargmin(scores)])\n",
    "        return proteins[np.nanargmin(scores)], scores\n",
    "    \n",
    "    def save_fasta(self, sequence, name):\n",
    "        with open(name, \"w\") as fasta_file:\n",
    "            fasta_file.write(\">seq\"+str(self.protein_index)+f\"\\n{sequence}\")\n",
    "    \n",
    "    def rationalize(self, n_steps = 3):\n",
    "        new_protein = self.sequence.copy()\n",
    "        protein_trajectory = [new_protein]\n",
    "        protein_scores = []\n",
    "        for n in range(n_steps):\n",
    "            new_protein, score = self.step(new_protein, deletions=800)\n",
    "            protein_trajectory.append(self.to_list(new_protein))\n",
    "            protein_scores.append(score)\n",
    "        return protein_trajectory, protein_scores"
   ]
  },
  {
   "cell_type": "code",
   "execution_count": 21,
   "id": "f452d44b-1179-4c57-992c-b091e16bbe06",
   "metadata": {},
   "outputs": [
    {
     "name": "stderr",
     "output_type": "stream",
     "text": [
      "\n",
      "WARNING: You are welcome to use the default MSA server, however keep in mind that it's a\n",
      "limited shared resource only capable of processing a few thousand MSAs per day. Please\n",
      "submit jobs only from a single IP address. We reserve the right to limit access to the\n",
      "server case-by-case when usage exceeds fair use. If you require more MSAs: You can \n",
      "precompute all MSAs with `colabfold_search` or host your own API and pass it to `--host-url`\n",
      "\n"
     ]
    },
    {
     "name": "stdout",
     "output_type": "stream",
     "text": [
      "2024-10-08 10:25:31,100 Running colabfold 1.5.5\n",
      "2024-10-08 10:25:31,131 Unable to initialize backend 'cuda': \n",
      "2024-10-08 10:25:31,131 Unable to initialize backend 'rocm': module 'jaxlib.xla_extension' has no attribute 'GpuAllocatorConfig'\n",
      "2024-10-08 10:25:31,135 Unable to initialize backend 'tpu': INTERNAL: Failed to open libtpu.so: dlopen(libtpu.so, 0x0001): tried: 'libtpu.so' (no such file), '/System/Volumes/Preboot/Cryptexes/OSlibtpu.so' (no such file), '/Users/kosio/miniconda3/envs/protein_prediction/bin/../lib/libtpu.so' (no such file), '/usr/lib/libtpu.so' (no such file, not in dyld cache), 'libtpu.so' (no such file), '/usr/local/lib/libtpu.so' (no such file), '/usr/lib/libtpu.so' (no such file, not in dyld cache)\n",
      "2024-10-08 10:25:31,135 WARNING: no GPU detected, will be using CPU\n",
      "2024-10-08 10:25:33,811 Found 5 citations for tools or databases\n",
      "2024-10-08 10:25:33,811 Query 1/1: seq1 (length 1238)\n"
     ]
    },
    {
     "name": "stderr",
     "output_type": "stream",
     "text": [
      "COMPLETE: |          | 189/? [elapsed: 03:49 remaining: 00:00]     \n"
     ]
    },
    {
     "ename": "KeyboardInterrupt",
     "evalue": "",
     "output_type": "error",
     "traceback": [
      "\u001b[0;31m---------------------------------------------------------------------------\u001b[0m",
      "\u001b[0;31mKeyboardInterrupt\u001b[0m                         Traceback (most recent call last)",
      "Cell \u001b[0;32mIn[21], line 20\u001b[0m\n\u001b[1;32m     18\u001b[0m prot_sequence \u001b[38;5;241m=\u001b[39m [sequences[\u001b[38;5;124m\"\u001b[39m\u001b[38;5;124msequences\u001b[39m\u001b[38;5;124m\"\u001b[39m][\u001b[38;5;241m0\u001b[39m]]\n\u001b[1;32m     19\u001b[0m prot_reducer \u001b[38;5;241m=\u001b[39m ProtRatio(prot_sequence,\u001b[38;5;124m\"\u001b[39m\u001b[38;5;124m/Users/kosio/Repos/PolG_project/Protein_predictions/\u001b[39m\u001b[38;5;124m\"\u001b[39m)\n\u001b[0;32m---> 20\u001b[0m proteins, scores \u001b[38;5;241m=\u001b[39m \u001b[43mprot_reducer\u001b[49m\u001b[38;5;241;43m.\u001b[39;49m\u001b[43mrationalize\u001b[49m\u001b[43m(\u001b[49m\u001b[43m)\u001b[49m\n",
      "Cell \u001b[0;32mIn[20], line 77\u001b[0m, in \u001b[0;36mProtRatio.rationalize\u001b[0;34m(self, n_steps)\u001b[0m\n\u001b[1;32m     75\u001b[0m protein_scores \u001b[38;5;241m=\u001b[39m []\n\u001b[1;32m     76\u001b[0m \u001b[38;5;28;01mfor\u001b[39;00m n \u001b[38;5;129;01min\u001b[39;00m \u001b[38;5;28mrange\u001b[39m(n_steps):\n\u001b[0;32m---> 77\u001b[0m     new_protein, score \u001b[38;5;241m=\u001b[39m \u001b[38;5;28;43mself\u001b[39;49m\u001b[38;5;241;43m.\u001b[39;49m\u001b[43mstep\u001b[49m\u001b[43m(\u001b[49m\u001b[43mnew_protein\u001b[49m\u001b[43m,\u001b[49m\u001b[43m \u001b[49m\u001b[43mdeletions\u001b[49m\u001b[38;5;241;43m=\u001b[39;49m\u001b[38;5;241;43m800\u001b[39;49m\u001b[43m)\u001b[49m\n\u001b[1;32m     78\u001b[0m     protein_trajectory\u001b[38;5;241m.\u001b[39mappend(\u001b[38;5;28mself\u001b[39m\u001b[38;5;241m.\u001b[39mto_list(new_protein))\n\u001b[1;32m     79\u001b[0m     protein_scores\u001b[38;5;241m.\u001b[39mappend(score)\n",
      "Cell \u001b[0;32mIn[20], line 60\u001b[0m, in \u001b[0;36mProtRatio.step\u001b[0;34m(self, protein, deletions)\u001b[0m\n\u001b[1;32m     58\u001b[0m \u001b[38;5;28mself\u001b[39m\u001b[38;5;241m.\u001b[39mprotein_index\u001b[38;5;241m+\u001b[39m\u001b[38;5;241m=\u001b[39m\u001b[38;5;241m1\u001b[39m\n\u001b[1;32m     59\u001b[0m proteins\u001b[38;5;241m.\u001b[39mappend(np\u001b[38;5;241m.\u001b[39mdelete(protein,comb[i]))\n\u001b[0;32m---> 60\u001b[0m struct, seq \u001b[38;5;241m=\u001b[39m \u001b[38;5;28;43mself\u001b[39;49m\u001b[38;5;241;43m.\u001b[39;49m\u001b[43mstructure_prediciton\u001b[49m\u001b[43m(\u001b[49m\u001b[43mproteins\u001b[49m\u001b[43m[\u001b[49m\u001b[38;5;241;43m-\u001b[39;49m\u001b[38;5;241;43m1\u001b[39;49m\u001b[43m]\u001b[49m\u001b[43m)\u001b[49m\n\u001b[1;32m     61\u001b[0m \u001b[38;5;28;01mif\u001b[39;00m \u001b[38;5;28mlen\u001b[39m(seq)\u001b[38;5;241m>\u001b[39m\u001b[38;5;241m2\u001b[39m:\n\u001b[1;32m     62\u001b[0m     scores\u001b[38;5;241m.\u001b[39mappend(\u001b[38;5;28mself\u001b[39m\u001b[38;5;241m.\u001b[39mdistance_function(struct, seq))\n",
      "Cell \u001b[0;32mIn[20], line 41\u001b[0m, in \u001b[0;36mProtRatio.structure_prediciton\u001b[0;34m(self, protein)\u001b[0m\n\u001b[1;32m     39\u001b[0m \u001b[38;5;28;01mdef\u001b[39;00m \u001b[38;5;21mstructure_prediciton\u001b[39m(\u001b[38;5;28mself\u001b[39m, protein):\n\u001b[1;32m     40\u001b[0m     \u001b[38;5;28mself\u001b[39m\u001b[38;5;241m.\u001b[39msave_fasta(\u001b[38;5;241m*\u001b[39m\u001b[38;5;28mself\u001b[39m\u001b[38;5;241m.\u001b[39mto_list(protein), \u001b[38;5;28mself\u001b[39m\u001b[38;5;241m.\u001b[39msave_path\u001b[38;5;241m+\u001b[39m\u001b[38;5;28mstr\u001b[39m(\u001b[38;5;28mself\u001b[39m\u001b[38;5;241m.\u001b[39mprotein_index)\u001b[38;5;241m+\u001b[39m\u001b[38;5;124m'\u001b[39m\u001b[38;5;124m.fasta\u001b[39m\u001b[38;5;124m'\u001b[39m)\n\u001b[0;32m---> 41\u001b[0m     \u001b[43msubprocess\u001b[49m\u001b[38;5;241;43m.\u001b[39;49m\u001b[43mrun\u001b[49m\u001b[43m(\u001b[49m\u001b[43m[\u001b[49m\u001b[38;5;124;43m'\u001b[39;49m\u001b[38;5;124;43mcolabfold_batch\u001b[39;49m\u001b[38;5;124;43m'\u001b[39;49m\u001b[43m,\u001b[49m\u001b[43m \u001b[49m\u001b[38;5;28;43mself\u001b[39;49m\u001b[38;5;241;43m.\u001b[39;49m\u001b[43msave_path\u001b[49m\u001b[38;5;241;43m+\u001b[39;49m\u001b[38;5;28;43mstr\u001b[39;49m\u001b[43m(\u001b[49m\u001b[38;5;28;43mself\u001b[39;49m\u001b[38;5;241;43m.\u001b[39;49m\u001b[43mprotein_index\u001b[49m\u001b[43m)\u001b[49m\u001b[38;5;241;43m+\u001b[39;49m\u001b[38;5;124;43m'\u001b[39;49m\u001b[38;5;124;43m.fasta\u001b[39;49m\u001b[38;5;124;43m'\u001b[39;49m\u001b[43m,\u001b[49m\u001b[43m \u001b[49m\u001b[38;5;28;43mself\u001b[39;49m\u001b[38;5;241;43m.\u001b[39;49m\u001b[43msave_path\u001b[49m\u001b[38;5;241;43m+\u001b[39;49m\u001b[38;5;124;43m'\u001b[39;49m\u001b[38;5;124;43mout\u001b[39;49m\u001b[38;5;124;43m'\u001b[39;49m\u001b[38;5;241;43m+\u001b[39;49m\u001b[38;5;28;43mstr\u001b[39;49m\u001b[43m(\u001b[49m\u001b[38;5;28;43mself\u001b[39;49m\u001b[38;5;241;43m.\u001b[39;49m\u001b[43mprotein_index\u001b[49m\u001b[43m)\u001b[49m\u001b[43m]\u001b[49m\u001b[43m)\u001b[49m\n\u001b[1;32m     42\u001b[0m     \u001b[38;5;28;01mfor\u001b[39;00m file_name \u001b[38;5;129;01min\u001b[39;00m os\u001b[38;5;241m.\u001b[39mlistdir(\u001b[38;5;28mself\u001b[39m\u001b[38;5;241m.\u001b[39msave_path\u001b[38;5;241m+\u001b[39m\u001b[38;5;124m'\u001b[39m\u001b[38;5;124mout\u001b[39m\u001b[38;5;124m'\u001b[39m\u001b[38;5;241m+\u001b[39m\u001b[38;5;28mstr\u001b[39m(\u001b[38;5;28mself\u001b[39m\u001b[38;5;241m.\u001b[39mprotein_index)):\n\u001b[1;32m     43\u001b[0m         \u001b[38;5;28;01mif\u001b[39;00m file_name\u001b[38;5;241m.\u001b[39mstartswith(\u001b[38;5;124m'\u001b[39m\u001b[38;5;124mseq\u001b[39m\u001b[38;5;124m'\u001b[39m\u001b[38;5;241m+\u001b[39m\u001b[38;5;28mstr\u001b[39m(\u001b[38;5;28mself\u001b[39m\u001b[38;5;241m.\u001b[39mprotein_index)\u001b[38;5;241m+\u001b[39m\u001b[38;5;124m'\u001b[39m\u001b[38;5;124m_unrelaxed_rank_001\u001b[39m\u001b[38;5;124m'\u001b[39m):\n",
      "File \u001b[0;32m~/miniconda3/envs/protein_prediction/lib/python3.10/subprocess.py:505\u001b[0m, in \u001b[0;36mrun\u001b[0;34m(input, capture_output, timeout, check, *popenargs, **kwargs)\u001b[0m\n\u001b[1;32m    503\u001b[0m \u001b[38;5;28;01mwith\u001b[39;00m Popen(\u001b[38;5;241m*\u001b[39mpopenargs, \u001b[38;5;241m*\u001b[39m\u001b[38;5;241m*\u001b[39mkwargs) \u001b[38;5;28;01mas\u001b[39;00m process:\n\u001b[1;32m    504\u001b[0m     \u001b[38;5;28;01mtry\u001b[39;00m:\n\u001b[0;32m--> 505\u001b[0m         stdout, stderr \u001b[38;5;241m=\u001b[39m \u001b[43mprocess\u001b[49m\u001b[38;5;241;43m.\u001b[39;49m\u001b[43mcommunicate\u001b[49m\u001b[43m(\u001b[49m\u001b[38;5;28;43minput\u001b[39;49m\u001b[43m,\u001b[49m\u001b[43m \u001b[49m\u001b[43mtimeout\u001b[49m\u001b[38;5;241;43m=\u001b[39;49m\u001b[43mtimeout\u001b[49m\u001b[43m)\u001b[49m\n\u001b[1;32m    506\u001b[0m     \u001b[38;5;28;01mexcept\u001b[39;00m TimeoutExpired \u001b[38;5;28;01mas\u001b[39;00m exc:\n\u001b[1;32m    507\u001b[0m         process\u001b[38;5;241m.\u001b[39mkill()\n",
      "File \u001b[0;32m~/miniconda3/envs/protein_prediction/lib/python3.10/subprocess.py:1146\u001b[0m, in \u001b[0;36mPopen.communicate\u001b[0;34m(self, input, timeout)\u001b[0m\n\u001b[1;32m   1144\u001b[0m         stderr \u001b[38;5;241m=\u001b[39m \u001b[38;5;28mself\u001b[39m\u001b[38;5;241m.\u001b[39mstderr\u001b[38;5;241m.\u001b[39mread()\n\u001b[1;32m   1145\u001b[0m         \u001b[38;5;28mself\u001b[39m\u001b[38;5;241m.\u001b[39mstderr\u001b[38;5;241m.\u001b[39mclose()\n\u001b[0;32m-> 1146\u001b[0m     \u001b[38;5;28;43mself\u001b[39;49m\u001b[38;5;241;43m.\u001b[39;49m\u001b[43mwait\u001b[49m\u001b[43m(\u001b[49m\u001b[43m)\u001b[49m\n\u001b[1;32m   1147\u001b[0m \u001b[38;5;28;01melse\u001b[39;00m:\n\u001b[1;32m   1148\u001b[0m     \u001b[38;5;28;01mif\u001b[39;00m timeout \u001b[38;5;129;01mis\u001b[39;00m \u001b[38;5;129;01mnot\u001b[39;00m \u001b[38;5;28;01mNone\u001b[39;00m:\n",
      "File \u001b[0;32m~/miniconda3/envs/protein_prediction/lib/python3.10/subprocess.py:1209\u001b[0m, in \u001b[0;36mPopen.wait\u001b[0;34m(self, timeout)\u001b[0m\n\u001b[1;32m   1207\u001b[0m     endtime \u001b[38;5;241m=\u001b[39m _time() \u001b[38;5;241m+\u001b[39m timeout\n\u001b[1;32m   1208\u001b[0m \u001b[38;5;28;01mtry\u001b[39;00m:\n\u001b[0;32m-> 1209\u001b[0m     \u001b[38;5;28;01mreturn\u001b[39;00m \u001b[38;5;28;43mself\u001b[39;49m\u001b[38;5;241;43m.\u001b[39;49m\u001b[43m_wait\u001b[49m\u001b[43m(\u001b[49m\u001b[43mtimeout\u001b[49m\u001b[38;5;241;43m=\u001b[39;49m\u001b[43mtimeout\u001b[49m\u001b[43m)\u001b[49m\n\u001b[1;32m   1210\u001b[0m \u001b[38;5;28;01mexcept\u001b[39;00m \u001b[38;5;167;01mKeyboardInterrupt\u001b[39;00m:\n\u001b[1;32m   1211\u001b[0m     \u001b[38;5;66;03m# https://bugs.python.org/issue25942\u001b[39;00m\n\u001b[1;32m   1212\u001b[0m     \u001b[38;5;66;03m# The first keyboard interrupt waits briefly for the child to\u001b[39;00m\n\u001b[1;32m   1213\u001b[0m     \u001b[38;5;66;03m# exit under the common assumption that it also received the ^C\u001b[39;00m\n\u001b[1;32m   1214\u001b[0m     \u001b[38;5;66;03m# generated SIGINT and will exit rapidly.\u001b[39;00m\n\u001b[1;32m   1215\u001b[0m     \u001b[38;5;28;01mif\u001b[39;00m timeout \u001b[38;5;129;01mis\u001b[39;00m \u001b[38;5;129;01mnot\u001b[39;00m \u001b[38;5;28;01mNone\u001b[39;00m:\n",
      "File \u001b[0;32m~/miniconda3/envs/protein_prediction/lib/python3.10/subprocess.py:1959\u001b[0m, in \u001b[0;36mPopen._wait\u001b[0;34m(self, timeout)\u001b[0m\n\u001b[1;32m   1957\u001b[0m \u001b[38;5;28;01mif\u001b[39;00m \u001b[38;5;28mself\u001b[39m\u001b[38;5;241m.\u001b[39mreturncode \u001b[38;5;129;01mis\u001b[39;00m \u001b[38;5;129;01mnot\u001b[39;00m \u001b[38;5;28;01mNone\u001b[39;00m:\n\u001b[1;32m   1958\u001b[0m     \u001b[38;5;28;01mbreak\u001b[39;00m  \u001b[38;5;66;03m# Another thread waited.\u001b[39;00m\n\u001b[0;32m-> 1959\u001b[0m (pid, sts) \u001b[38;5;241m=\u001b[39m \u001b[38;5;28;43mself\u001b[39;49m\u001b[38;5;241;43m.\u001b[39;49m\u001b[43m_try_wait\u001b[49m\u001b[43m(\u001b[49m\u001b[38;5;241;43m0\u001b[39;49m\u001b[43m)\u001b[49m\n\u001b[1;32m   1960\u001b[0m \u001b[38;5;66;03m# Check the pid and loop as waitpid has been known to\u001b[39;00m\n\u001b[1;32m   1961\u001b[0m \u001b[38;5;66;03m# return 0 even without WNOHANG in odd situations.\u001b[39;00m\n\u001b[1;32m   1962\u001b[0m \u001b[38;5;66;03m# http://bugs.python.org/issue14396.\u001b[39;00m\n\u001b[1;32m   1963\u001b[0m \u001b[38;5;28;01mif\u001b[39;00m pid \u001b[38;5;241m==\u001b[39m \u001b[38;5;28mself\u001b[39m\u001b[38;5;241m.\u001b[39mpid:\n",
      "File \u001b[0;32m~/miniconda3/envs/protein_prediction/lib/python3.10/subprocess.py:1917\u001b[0m, in \u001b[0;36mPopen._try_wait\u001b[0;34m(self, wait_flags)\u001b[0m\n\u001b[1;32m   1915\u001b[0m \u001b[38;5;250m\u001b[39m\u001b[38;5;124;03m\"\"\"All callers to this function MUST hold self._waitpid_lock.\"\"\"\u001b[39;00m\n\u001b[1;32m   1916\u001b[0m \u001b[38;5;28;01mtry\u001b[39;00m:\n\u001b[0;32m-> 1917\u001b[0m     (pid, sts) \u001b[38;5;241m=\u001b[39m \u001b[43mos\u001b[49m\u001b[38;5;241;43m.\u001b[39;49m\u001b[43mwaitpid\u001b[49m\u001b[43m(\u001b[49m\u001b[38;5;28;43mself\u001b[39;49m\u001b[38;5;241;43m.\u001b[39;49m\u001b[43mpid\u001b[49m\u001b[43m,\u001b[49m\u001b[43m \u001b[49m\u001b[43mwait_flags\u001b[49m\u001b[43m)\u001b[49m\n\u001b[1;32m   1918\u001b[0m \u001b[38;5;28;01mexcept\u001b[39;00m \u001b[38;5;167;01mChildProcessError\u001b[39;00m:\n\u001b[1;32m   1919\u001b[0m     \u001b[38;5;66;03m# This happens if SIGCLD is set to be ignored or waiting\u001b[39;00m\n\u001b[1;32m   1920\u001b[0m     \u001b[38;5;66;03m# for child processes has otherwise been disabled for our\u001b[39;00m\n\u001b[1;32m   1921\u001b[0m     \u001b[38;5;66;03m# process.  This child is dead, we can't get the status.\u001b[39;00m\n\u001b[1;32m   1922\u001b[0m     pid \u001b[38;5;241m=\u001b[39m \u001b[38;5;28mself\u001b[39m\u001b[38;5;241m.\u001b[39mpid\n",
      "\u001b[0;31mKeyboardInterrupt\u001b[0m: "
     ]
    },
    {
     "name": "stderr",
     "output_type": "stream",
     "text": [
      "/Users/kosio/miniconda3/envs/protein_prediction/lib/python3.10/multiprocessing/resource_tracker.py:224: UserWarning: resource_tracker: There appear to be 1 leaked semaphore objects to clean up at shutdown\n",
      "  warnings.warn('resource_tracker: There appear to be %d '\n"
     ]
    }
   ],
   "source": [
    "from Bio import SeqIO\n",
    "\n",
    "fasta_file_path = \"/Users/kosio/Data/PolG/POLG_refseq_protein.fasta\"\n",
    "\n",
    "names = {}\n",
    "\n",
    "#sequence\n",
    "sequences = {\"names\": [], \"sequences\": [], \"sequence_length\":[]}\n",
    "\n",
    "# Read the FASTA file\n",
    "with open(fasta_file_path, \"r\") as fasta_file:\n",
    "    for record in SeqIO.parse(fasta_file, \"fasta\"):\n",
    "        sequences[\"names\"].append(record.description)\n",
    "        sequences[\"sequences\"].append(str(record.seq))\n",
    "        sequences[\"sequence_length\"].append(len(str(record.seq)))\n",
    "\n",
    "prot_sequence = [sequences[\"sequences\"][0]]\n",
    "prot_reducer = ProtRatio(prot_sequence,\"/Users/kosio/Repos/PolG_project/Protein_predictions/\")\n",
    "proteins, scores = prot_reducer.rationalize()"
   ]
  },
  {
   "cell_type": "code",
   "execution_count": null,
   "id": "25bc5516-e320-4d4a-9261-7f78d467db94",
   "metadata": {},
   "outputs": [],
   "source": [
    "from Bio import SeqIO\n",
    "\n",
    "fasta_file_path = \"/Users/kosio/Data/PolG/POLG_refseq_protein.fasta\"\n",
    "\n",
    "names = {}\n",
    "\n",
    "#sequence\n",
    "sequences = {\"names\": [], \"sequences\": [], \"sequence_length\":[]}\n",
    "\n",
    "# Read the FASTA file\n",
    "with open(fasta_file_path, \"r\") as fasta_file:\n",
    "    for record in SeqIO.parse(fasta_file, \"fasta\"):\n",
    "        sequences[\"names\"].append(record.description)\n",
    "        sequences[\"sequences\"].append(str(record.seq))\n",
    "        sequences[\"sequence_length\"].append(len(str(record.seq)))\n"
   ]
  },
  {
   "cell_type": "code",
   "execution_count": null,
   "id": "a1217d32-8cbd-4dbc-8ede-c8f0532b6c9f",
   "metadata": {},
   "outputs": [],
   "source": [
    "#proteins[0] = prot_reducer.to_list(proteins[0])\n",
    "proteins = [proteins[i][0] for i in range(len(proteins))]"
   ]
  },
  {
   "cell_type": "code",
   "execution_count": null,
   "id": "ea9189c7-bac9-48af-ad77-572cde892455",
   "metadata": {},
   "outputs": [],
   "source": [
    "import matplotlib.pyplot as plt\n",
    "\n",
    "plt.plot(np.concatenate(scores)[np.concatenate(scores)!=1000])\n",
    "plt.xticks(np.arange(0,len(proteins)),proteins)"
   ]
  },
  {
   "cell_type": "code",
   "execution_count": 7,
   "id": "2e625e5c-6a0e-495e-9efb-8f0741897ecd",
   "metadata": {},
   "outputs": [
    {
     "data": {
      "text/plain": [
       "(1, 3)"
      ]
     },
     "execution_count": 7,
     "metadata": {},
     "output_type": "execute_result"
    }
   ],
   "source": [
    "prot_reducer.atoms.shape"
   ]
  },
  {
   "cell_type": "code",
   "execution_count": null,
   "id": "19a0e7c4-0aa7-4a4b-aebb-bfe7ba113403",
   "metadata": {},
   "outputs": [],
   "source": []
  },
  {
   "cell_type": "code",
   "execution_count": null,
   "id": "260c2a57-9f10-4530-b9e4-44e07fdaf41a",
   "metadata": {},
   "outputs": [],
   "source": [
    "scores"
   ]
  },
  {
   "cell_type": "code",
   "execution_count": null,
   "id": "e06adfae-0bc3-4638-895b-b6b84b1ba03a",
   "metadata": {},
   "outputs": [],
   "source": [
    "from Bio.SVDSuperimposer import SVDSuperimposer\n",
    "from numpy import array, dot, set_printoptions\n",
    "\n",
    "x = array([[51.65, -1.90, 50.07],\n",
    "     [50.40, -1.23, 50.65],\n",
    "     [50.68, -0.04, 51.54],\n",
    "     [50.22, -0.02, 52.85]])\n",
    "\n",
    "y = array([[51.30, -2.99, 46.54],\n",
    "     [51.09, -1.88, 47.58],\n",
    "     [52.36, -1.20, 48.03]])\n",
    "\n",
    "sup = SVDSuperimposer()\n",
    "sup.set(x, y)"
   ]
  },
  {
   "cell_type": "code",
   "execution_count": null,
   "id": "1daf9cda-8d6a-4388-8168-a85c470c71ec",
   "metadata": {},
   "outputs": [],
   "source": [
    "x.shape"
   ]
  },
  {
   "cell_type": "code",
   "execution_count": null,
   "id": "205a3a92-3173-482a-90b9-dbeb7f40742a",
   "metadata": {},
   "outputs": [],
   "source": []
  }
 ],
 "metadata": {
  "kernelspec": {
   "display_name": "Python 3 (ipykernel)",
   "language": "python",
   "name": "python3"
  },
  "language_info": {
   "codemirror_mode": {
    "name": "ipython",
    "version": 3
   },
   "file_extension": ".py",
   "mimetype": "text/x-python",
   "name": "python",
   "nbconvert_exporter": "python",
   "pygments_lexer": "ipython3",
   "version": "3.10.14"
  }
 },
 "nbformat": 4,
 "nbformat_minor": 5
}
