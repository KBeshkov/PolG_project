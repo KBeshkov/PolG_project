{
 "cells": [
  {
   "cell_type": "code",
   "execution_count": 1,
   "id": "178b623f-a6b8-4b77-a55b-3d3f4e4aa20b",
   "metadata": {},
   "outputs": [],
   "source": [
    "import rmsd"
   ]
  },
  {
   "cell_type": "code",
   "execution_count": 5,
   "id": "dc6f04b9-2983-46dd-8ea5-d9be5d41f062",
   "metadata": {},
   "outputs": [
    {
     "name": "stdout",
     "output_type": "stream",
     "text": [
      "Translated RMSD 0.11547005383792526\n",
      "Rotated RMSD 0.11116017621517434\n"
     ]
    },
    {
     "data": {
      "text/plain": [
       "<Figure size 640x480 with 0 Axes>"
      ]
     },
     "metadata": {},
     "output_type": "display_data"
    }
   ],
   "source": [
    "#!/usr/bin/env python\n",
    "\n",
    "from pathlib import Path\n",
    "\n",
    "import matplotlib.pyplot as plt  # type: ignore\n",
    "import numpy as np\n",
    "from numpy import ndarray\n",
    "\n",
    "import rmsd\n",
    "\n",
    "\n",
    "def rotation_matrix(sigma: float) -> ndarray:\n",
    "\n",
    "    radians = sigma * np.pi / 180.0\n",
    "\n",
    "    r11 = np.cos(radians)\n",
    "    r12 = -np.sin(radians)\n",
    "    r21 = np.sin(radians)\n",
    "    r22 = np.cos(radians)\n",
    "\n",
    "    R = np.array([[r11, r12], [r21, r22]])\n",
    "\n",
    "    return R\n",
    "\n",
    "\n",
    "def save_plot(A: ndarray, B: ndarray, filename: Path) -> None:\n",
    "\n",
    "    Ax = A[:, 0]\n",
    "    Ay = A[:, 1]\n",
    "\n",
    "    Bx = B[:, 0]\n",
    "    By = B[:, 1]\n",
    "\n",
    "    plt.plot(Ax, Ay, \"o-\", markersize=15, linewidth=3)\n",
    "    plt.plot(Bx, By, \"o-\", markersize=15, linewidth=3)\n",
    "\n",
    "    plt.ylim([-2.5, 2.5])\n",
    "    plt.xlim([-2.5, 2.5])\n",
    "    plt.grid(True)\n",
    "    plt.tick_params(labelsize=15)\n",
    "    plt.savefig(filename.with_suffix(\".png\"))\n",
    "    plt.clf()\n",
    "\n",
    "\n",
    "A = np.array([[1.0, 1.0], [1.0, 2.0], [2.0, 1.5]])\n",
    "\n",
    "# Same \"molecule\"\n",
    "B = np.array([[1.0, 1.0], [1.0, 2.2], [2.0, 1.5]])\n",
    "\n",
    "\n",
    "print(\"Translated RMSD\", rmsd.rmsd(A, B))\n",
    "save_plot(A, B, Path(\"plot_translated\"))\n",
    "\n",
    "U = rmsd.kabsch(A, B)\n",
    "A = np.dot(A, U)\n",
    "\n",
    "print(\"Rotated RMSD\", rmsd.rmsd(A, B))\n",
    "save_plot(A, B, Path(\"plot_rotated\"))"
   ]
  },
  {
   "cell_type": "code",
   "execution_count": 4,
   "id": "3385fab7-34e8-4901-a65e-65cdbea0a90d",
   "metadata": {},
   "outputs": [
    {
     "data": {
      "text/plain": [
       "6.409875621278547e-16"
      ]
     },
     "execution_count": 4,
     "metadata": {},
     "output_type": "execute_result"
    }
   ],
   "source": [
    "rmsd.rmsd(A, B)"
   ]
  },
  {
   "cell_type": "code",
   "execution_count": null,
   "id": "b805a30d-11dd-4b33-8797-240f7fb13646",
   "metadata": {},
   "outputs": [],
   "source": []
  }
 ],
 "metadata": {
  "kernelspec": {
   "display_name": "Python 3 (ipykernel)",
   "language": "python",
   "name": "python3"
  },
  "language_info": {
   "codemirror_mode": {
    "name": "ipython",
    "version": 3
   },
   "file_extension": ".py",
   "mimetype": "text/x-python",
   "name": "python",
   "nbconvert_exporter": "python",
   "pygments_lexer": "ipython3",
   "version": "3.10.14"
  }
 },
 "nbformat": 4,
 "nbformat_minor": 5
}
