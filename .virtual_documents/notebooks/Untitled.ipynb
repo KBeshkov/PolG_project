from Bio import SeqIO
import numpy as np
import matplotlib.pyplot as plt

# Specify the path to your FASTA file
fasta_file_path = "/Users/kosio/Data/PolG/POLG_refseq_protein.fasta"


#species names
names = {}

#sequence
sequences = {"names": [], "sequences": [], "sequence_length":[]}

# Read the FASTA file
with open(fasta_file_path, "r") as fasta_file:
    for record in SeqIO.parse(fasta_file, "fasta"):
        sequences["names"].append(record.description)
        sequences["sequences"].append(str(record.seq))
        sequences["sequence_length"].append(len(str(record.seq)))



print(sequences["sequence_length"][0])
plt.figure(figsize=(4,2),dpi=300)
plt.plot(sequences["sequence_length"],lw=0.7)
plt.title("Sequence lengths")


from Levenshtein import distance as levenshtein_distance

def lev_dist(seq_list):
    distances = np.zeros([len(seq_list),len(seq_list)])
    for i in range(len(seq_list)):
        for j in range(len(seq_list)):
            if i>j:
                distances[i,j] = levenshtein_distance(seq_list[i],seq_list[j])
        if i%50==0:
            print(i)
    return distances + distances.T

d = lev_dist(sequences["sequences"])


plt.imshow(d)


plt.figure(figsize=(3,2),dpi=300)
plt.scatter(d[0],sequences["sequence_length"],s=1)
plt.xlabel('Distance from human sequence')
plt.ylabel('Sequence length')


import umap.umap_ as umap

reducer = umap.UMAP(n_components=2, n_neighbors=50, min_dist=0.8, metric="precomputed")
projection = reducer.fit_transform(d).T

plt.figure(figsize=(3,2),dpi=300)
plt.scatter(projection[0],projection[1],c=sequences["sequence_length"],s=3)
plt.colorbar()
plt.scatter(projection[0,0],projection[1,0],color='red',s=3)
plt.axis('off')



alternatives_sorted = np.argsort(d[0]+sequences["sequence_length"])
human_seq_length = sequences["sequence_length"][0]
top_5 = alternatives_sorted[1:40]
for i in top_5:
    print(sequences["names"][i]+"   " + str(human_seq_length - sequences["sequence_length"][i]) + " shorter and " + str(d[0,i])+ " distant.")



sequences["sequences"][118]


sequences["names"][118]



